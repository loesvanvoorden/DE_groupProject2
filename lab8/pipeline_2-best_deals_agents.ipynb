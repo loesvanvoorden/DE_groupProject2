{
 "cells": [
  {
   "cell_type": "code",
   "execution_count": 2,
   "id": "78c8e85a-d907-40ef-918e-f159672d4833",
   "metadata": {},
   "outputs": [
    {
     "name": "stdout",
     "output_type": "stream",
     "text": [
      "root\n",
      " |-- player_id: string (nullable = true)\n",
      " |-- transfer_date: string (nullable = true)\n",
      " |-- transfer_season: string (nullable = true)\n",
      " |-- from_club_id: string (nullable = true)\n",
      " |-- to_club_id: string (nullable = true)\n",
      " |-- from_club_name: string (nullable = true)\n",
      " |-- to_club_name: string (nullable = true)\n",
      " |-- transfer_fee: string (nullable = true)\n",
      " |-- market_value_in_eur: string (nullable = true)\n",
      " |-- player_name: string (nullable = true)\n",
      "\n",
      "+---------+-------------+---------------+------------+----------+--------------+---------------+------------+-------------------+---------------+\n",
      "|player_id|transfer_date|transfer_season|from_club_id|to_club_id|from_club_name|   to_club_name|transfer_fee|market_value_in_eur|    player_name|\n",
      "+---------+-------------+---------------+------------+----------+--------------+---------------+------------+-------------------+---------------+\n",
      "|   195778|   2026-06-30|          25/26|          79|        27| VfB Stuttgart|  Bayern Munich|       0.000|       12000000.000|Alexander Nübel|\n",
      "|   626913|   2026-06-30|          25/26|         398|       380|         Lazio|    Salernitana|       0.000|       15000000.000|    Boulaye Dia|\n",
      "|  1047109|   2026-06-30|          25/26|        2672|       265|APO Levadiakos|  Panathinaikos|       0.000|         100000.000|Georgios Katris|\n",
      "|   360791|   2025-12-31|          25/26|        6418|      1030|   Panetolikos|Argentinos Jrs.|       0.000|        1200000.000|   Lucas Chaves|\n",
      "|   532536|   2025-10-24|          24/25|        2451|      1519|  Inverness CT|  Dundee United|       0.000|         150000.000|    Jack Newman|\n",
      "+---------+-------------+---------------+------------+----------+--------------+---------------+------------+-------------------+---------------+\n",
      "only showing top 5 rows\n",
      "\n",
      "root\n",
      " |-- player_id: long (nullable = true)\n",
      " |-- first_name: string (nullable = true)\n",
      " |-- last_name: string (nullable = true)\n",
      " |-- name: string (nullable = true)\n",
      " |-- last_season: long (nullable = true)\n",
      " |-- current_club_id: long (nullable = true)\n",
      " |-- player_code: string (nullable = true)\n",
      " |-- country_of_birth: string (nullable = true)\n",
      " |-- city_of_birth: string (nullable = true)\n",
      " |-- country_of_citizenship: string (nullable = true)\n",
      " |-- date_of_birth: timestamp (nullable = true)\n",
      " |-- sub_position: string (nullable = true)\n",
      " |-- position: string (nullable = true)\n",
      " |-- foot: string (nullable = true)\n",
      " |-- height_in_cm: long (nullable = true)\n",
      " |-- contract_expiration_date: timestamp (nullable = true)\n",
      " |-- agent_name: string (nullable = true)\n",
      " |-- image_url: string (nullable = true)\n",
      " |-- url: string (nullable = true)\n",
      " |-- current_club_domestic_competition_id: string (nullable = true)\n",
      " |-- current_club_name: string (nullable = true)\n",
      " |-- market_value_in_eur: long (nullable = true)\n",
      " |-- highest_market_value_in_eur: long (nullable = true)\n",
      "\n",
      "+---------+----------+------------+--------------------+-----------+---------------+--------------------+----------------+-------------+----------------------+-------------------+------------+--------+-----+------------+------------------------+----------+--------------------+--------------------+------------------------------------+-----------------+-------------------+---------------------------+\n",
      "|player_id|first_name|   last_name|                name|last_season|current_club_id|         player_code|country_of_birth|city_of_birth|country_of_citizenship|      date_of_birth|sub_position|position| foot|height_in_cm|contract_expiration_date|agent_name|           image_url|                 url|current_club_domestic_competition_id|current_club_name|market_value_in_eur|highest_market_value_in_eur|\n",
      "+---------+----------+------------+--------------------+-----------+---------------+--------------------+----------------+-------------+----------------------+-------------------+------------+--------+-----+------------+------------------------+----------+--------------------+--------------------+------------------------------------+-----------------+-------------------+---------------------------+\n",
      "|    56607|      Anco|      Jansen|         Anco Jansen|       2020|           1283|         anco-jansen|     Netherlands|       Zwolle|           Netherlands|1989-03-09 00:00:00|        NULL| Missing|right|         186|                    NULL|      NULL|https://img.a.tra...|https://www.trans...|                                 NL1|         FC Emmen|             250000|                     700000|\n",
      "|   231165|     Fotis|    Doumanis|      Fotis Doumanis|       2013|            128|      fotis-doumanis|          Greece|       Kavala|                Greece|1993-10-28 00:00:00|        NULL| Missing|right|         173|     2023-06-30 00:00:00|      NULL|https://img.a.tra...|https://www.trans...|                                 GR1|        AO Xanthi|             150000|                     150000|\n",
      "|   727111|Anastasios|Papadopoulos|Anastasios Papado...|       2019|            128|anastasios-papado...|            NULL|         NULL|                Greece|2002-03-15 00:00:00|        NULL| Missing|right|         180|     2023-06-30 00:00:00|      NULL|https://img.a.tra...|https://www.trans...|                                 GR1|        AO Xanthi|               NULL|                       NULL|\n",
      "|   564561|  Mathurin|       Sakho|      Mathurin Sakho|       2018|           1416|      mathurin-sakho|            NULL|         NULL|                France|1995-03-10 00:00:00|        NULL| Missing| NULL|         186|                    NULL| ProSkills|https://img.a.tra...|https://www.trans...|                                 FR1|        Amiens SC|               NULL|                       NULL|\n",
      "+---------+----------+------------+--------------------+-----------+---------------+--------------------+----------------+-------------+----------------------+-------------------+------------+--------+-----+------------+------------------------+----------+--------------------+--------------------+------------------------------------+-----------------+-------------------+---------------------------+\n",
      "only showing top 4 rows\n",
      "\n"
     ]
    }
   ],
   "source": [
    "from pyspark.sql import SparkSession\n",
    "from pyspark import SparkConf\n",
    "\n",
    "sparkConf = SparkConf()\n",
    "sparkConf.setMaster(\"spark://spark-master:7077\")\n",
    "sparkConf.setAppName(\"Exercise_1_lab8_DE2\")\n",
    "sparkConf.set(\"spark.driver.memory\", \"2g\")\n",
    "sparkConf.set(\"spark.executor.cores\", \"1\")\n",
    "sparkConf.set(\"spark.driver.cores\", \"1\")\n",
    "# create the spark session, which is the entry point to Spark SQL engine.\n",
    "spark = SparkSession.builder.config(conf=sparkConf).getOrCreate()\n",
    "# Load data from BigQuery.\n",
    "\n",
    "conf = spark.sparkContext._jsc.hadoopConfiguration()\n",
    "conf.set(\"fs.gs.impl\", \"com.google.cloud.hadoop.fs.gcs.GoogleHadoopFileSystem\")\n",
    "conf.set(\"fs.AbstractFileSystem.gs.impl\", \"com.google.cloud.hadoop.fs.gcs.GoogleHadoopFS\")\n",
    "\n",
    "gsc_file_path = 'gs://data_de2/transfers.csv'  #  use your gcp bucket name. Also upload sales.csv first\n",
    "\n",
    "df_transfers = spark.read.format(\"csv\").option(\"header\", \"true\").option(\"delimiter\", \",\") \\\n",
    "       .load(gsc_file_path)\n",
    "df_transfers.printSchema()\n",
    "df_transfers.show(5)\n",
    "\n",
    "df_players = spark.read \\\n",
    "  .format(\"bigquery\") \\\n",
    "  .load(\"de2024-436414.transfers_kaggle.players\")    # project_id.datatset.tablename. Use your project id\n",
    "df_players.printSchema()\n",
    "df_players.show(4)\n",
    "\n"
   ]
  },
  {
   "cell_type": "code",
   "execution_count": 12,
   "id": "3ad4d222-1759-47d4-ad6a-5af94ac18a67",
   "metadata": {
    "scrolled": true
   },
   "outputs": [
    {
     "data": {
      "text/plain": [
       "['player_id',\n",
       " 'first_name',\n",
       " 'last_name',\n",
       " 'name',\n",
       " 'last_season',\n",
       " 'current_club_id',\n",
       " 'player_code',\n",
       " 'country_of_birth',\n",
       " 'city_of_birth',\n",
       " 'country_of_citizenship',\n",
       " 'date_of_birth',\n",
       " 'sub_position',\n",
       " 'position',\n",
       " 'foot',\n",
       " 'height_in_cm',\n",
       " 'contract_expiration_date',\n",
       " 'agent_name',\n",
       " 'image_url',\n",
       " 'url',\n",
       " 'current_club_domestic_competition_id',\n",
       " 'current_club_name',\n",
       " 'market_value_in_eur',\n",
       " 'highest_market_value_in_eur']"
      ]
     },
     "execution_count": 12,
     "metadata": {},
     "output_type": "execute_result"
    }
   ],
   "source": [
    "df_players.columns"
   ]
  },
  {
   "cell_type": "code",
   "execution_count": 20,
   "id": "3612d25a-0fd1-4c4d-96c4-ca579aa3671c",
   "metadata": {},
   "outputs": [
    {
     "data": {
      "text/plain": [
       "['player_id',\n",
       " 'transfer_date',\n",
       " 'transfer_season',\n",
       " 'from_club_id',\n",
       " 'to_club_id',\n",
       " 'from_club_name',\n",
       " 'to_club_name',\n",
       " 'transfer_fee',\n",
       " 'market_value_in_eur',\n",
       " 'player_name']"
      ]
     },
     "execution_count": 20,
     "metadata": {},
     "output_type": "execute_result"
    }
   ],
   "source": [
    "df_transfers.columns"
   ]
  },
  {
   "cell_type": "markdown",
   "id": "28c766fb-a44e-475f-81ca-8e9edf62395c",
   "metadata": {},
   "source": [
    "**What are the top 3 deals of each agent?**\n",
    "\n",
    "The 'goodness' of a deal will be defined by substracting the market_value from the transfer fee. The higher this number, the more the club 'overpaid' for the player according to the data from transfermarkt\n"
   ]
  },
  {
   "cell_type": "code",
   "execution_count": 19,
   "id": "e11e088d-1db7-47da-b88a-f4abafb8a3b6",
   "metadata": {},
   "outputs": [
    {
     "name": "stdout",
     "output_type": "stream",
     "text": [
      "+---------+--------------------+----------------+------------+--------+----------------+\n",
      "|player_id|         player_code|country_of_birth|sub_position|position|      agent_name|\n",
      "+---------+--------------------+----------------+------------+--------+----------------+\n",
      "|    56607|         anco-jansen|     Netherlands|        NULL| Missing|            NULL|\n",
      "|   231165|      fotis-doumanis|          Greece|        NULL| Missing|            NULL|\n",
      "|   727111|anastasios-papado...|            NULL|        NULL| Missing|            NULL|\n",
      "|   564561|      mathurin-sakho|            NULL|        NULL| Missing|       ProSkills|\n",
      "|   158704|   jon-ander-garrido|           Spain|        NULL| Missing|    JV SPORTS SL|\n",
      "|   457129|      ben-hinchliffe|         England|        NULL| Missing|            NULL|\n",
      "|   584378|        lucas-geurde|            NULL|        NULL| Missing|            NULL|\n",
      "|  1160121|      wassim-zaatout|            NULL|        NULL| Missing|            NULL|\n",
      "|   451848| geoffrey-acheampong|           Ghana|        NULL| Missing|Fisher Sport Ltd|\n",
      "|   468661|         lucas-triki|          France|        NULL| Missing|            NULL|\n",
      "|   718190|      jorge-cofrades|            NULL|        NULL| Missing|            NULL|\n",
      "|    64385|  jose-manuel-catala|           Spain|        NULL| Missing|            NULL|\n",
      "|  1063540|        mamadu-silla|            NULL|        NULL| Missing|            NULL|\n",
      "|   321086|        emil-nielsen|            NULL|        NULL| Missing|            NULL|\n",
      "|    26199|               verza|           Spain|        NULL| Missing|InterStarDeporte|\n",
      "+---------+--------------------+----------------+------------+--------+----------------+\n",
      "only showing top 15 rows\n",
      "\n"
     ]
    }
   ],
   "source": [
    "# Again, we only select the columns from df_players that are not in df_transfers and insightful\n",
    "df_players_new = df_players.select(\"player_id\", \"player_code\", \"country_of_birth\",  \n",
    "                                   \"sub_position\", \"position\",  \"agent_name\" ) \n",
    "\n",
    "# We also select only relevant columns from the df_transfers \n",
    "df_transfers_new = df_transfers.select(\"player_id\", \"player_name\", \"transfer_date\", \"from_club_name\", \"to_club_name\", \"transfer_fee\", \"market_value_in_eur\")\n",
    "\n",
    "\n",
    "df_players_new.show(15)"
   ]
  },
  {
   "cell_type": "markdown",
   "id": "46748fce-eaee-476f-8525-6316fb2ea336",
   "metadata": {},
   "source": [
    "In the table above, we see that a lot of agents are missing. These players likely do not have an agent. Since the agent is what we are interested in, we will later remove these players from the merged dataset."
   ]
  },
  {
   "cell_type": "code",
   "execution_count": 8,
   "id": "77459f9d-3611-482e-9da3-6570f43d544f",
   "metadata": {},
   "outputs": [
    {
     "name": "stdout",
     "output_type": "stream",
     "text": [
      "root\n",
      " |-- player_id: string (nullable = true)\n",
      " |-- player_name: string (nullable = true)\n",
      " |-- transfer_date: string (nullable = true)\n",
      " |-- from_club_name: string (nullable = true)\n",
      " |-- to_club_name: string (nullable = true)\n",
      " |-- transfer_fee: string (nullable = true)\n",
      " |-- market_value_in_eur: string (nullable = true)\n",
      " |-- player_id: long (nullable = true)\n",
      " |-- player_code: string (nullable = true)\n",
      " |-- country_of_birth: string (nullable = true)\n",
      " |-- sub_position: string (nullable = true)\n",
      " |-- position: string (nullable = true)\n",
      " |-- agent_name: string (nullable = true)\n",
      "\n"
     ]
    }
   ],
   "source": [
    "players_merged_clean.printSchema()"
   ]
  },
  {
   "cell_type": "markdown",
   "id": "c71327c2-4e20-4d34-95af-9401e68941f6",
   "metadata": {},
   "source": [
    "We again see that we need to change some types, which we will do in the next cell. We will also merge the datasets here and drop rows that have null values for either transfer fee, market value, or agent (player without an agent). "
   ]
  },
  {
   "cell_type": "code",
   "execution_count": 11,
   "id": "8c00a3aa-ce2c-4173-95f0-ebbf8ab49e9c",
   "metadata": {},
   "outputs": [
    {
     "name": "stdout",
     "output_type": "stream",
     "text": [
      "root\n",
      " |-- player_id: string (nullable = true)\n",
      " |-- player_name: string (nullable = true)\n",
      " |-- transfer_date: date (nullable = true)\n",
      " |-- from_club_name: string (nullable = true)\n",
      " |-- to_club_name: string (nullable = true)\n",
      " |-- transfer_fee: integer (nullable = true)\n",
      " |-- market_value_in_eur: integer (nullable = true)\n",
      " |-- player_id: long (nullable = true)\n",
      " |-- player_code: string (nullable = true)\n",
      " |-- country_of_birth: string (nullable = true)\n",
      " |-- sub_position: string (nullable = true)\n",
      " |-- position: string (nullable = true)\n",
      " |-- agent_name: string (nullable = true)\n",
      "\n"
     ]
    }
   ],
   "source": [
    "from pyspark.sql.functions import *\n",
    "from pyspark.sql import Window\n",
    "\n",
    "# Join the player and transfer datasets\n",
    "join_expression = df_players_new[\"player_id\"] == df_transfers_new[\"player_id\"]\n",
    "players_merged = df_transfers_new.join(df_players_new, join_expression, \"left\").drop(\"rid\")\n",
    "\n",
    "# Filter out rows with null values in key columns\n",
    "players_merged_clean = players_merged.filter(col(\"transfer_fee\").isNotNull())\n",
    "players_merged_clean = players_merged_clean.filter(col(\"market_value_in_eur\").isNotNull())\n",
    "\n",
    "# Convert transfer_date to date type (without timestamp)\n",
    "players_merged_clean = players_merged_clean.withColumn(\"transfer_date\", to_date(col(\"transfer_date\"), \"yyyy-MM-dd\"))\n",
    "\n",
    "# Convert market_value_in_eur and transfer_fee to integer type\n",
    "players_merged_clean = players_merged_clean.withColumn(\"market_value_in_eur\", col(\"market_value_in_eur\").cast(\"int\")) \\\n",
    "                                           .withColumn(\"transfer_fee\", col(\"transfer_fee\").cast(\"int\"))\n",
    "\n",
    "players_merged_clean = players_merged_clean.na.drop(\"all\", subset=[\"agent_name\"])\n",
    "\n",
    "\n",
    "# Verify the schema after changes\n",
    "players_merged_clean.printSchema()"
   ]
  },
  {
   "cell_type": "markdown",
   "id": "8f1877ee-078f-4689-af33-739a747ec1a7",
   "metadata": {},
   "source": [
    "Here we continue with getting the dataset we want to fulfill our goal. "
   ]
  },
  {
   "cell_type": "code",
   "execution_count": 14,
   "id": "38beef92-e283-4261-a0b8-76919fb4d6f5",
   "metadata": {},
   "outputs": [
    {
     "name": "stdout",
     "output_type": "stream",
     "text": [
      "+-------------------+-----------+--------------------+---------------+--------------+--------+------------+-------------------+-----------------+------------------+\n",
      "|         agent_name|deal_ranked|         player_name| from_club_name|  to_club_name|    deal|transfer_fee|market_value_in_eur|nr_of_deals_agent|average_deal_agent|\n",
      "+-------------------+-----------+--------------------+---------------+--------------+--------+------------+-------------------+-----------------+------------------+\n",
      "|         EB SPORTS |          1|         Aliou Baldé| Lausanne-Sport|      OGC Nice| 1700000|     2500000|             800000|               24|         -668458.3|\n",
      "|         EB SPORTS |          2|          Mame Thiam|Virtus Lanciano|      Juventus|  700000|     1400000|             700000|               24|         -668458.3|\n",
      "|         EB SPORTS |          3|         Aliou Baldé|  Feyenoord U21|Lausanne-Sport|  600000|     1000000|             400000|               24|         -668458.3|\n",
      "|           #LEADERS|          1|         Amad Diallo|    Atalanta BC|       Man Utd| 6300000|    21300000|           15000000|                8|        -7781250.0|\n",
      "|           #LEADERS|          2|       Sergio Mestre|  Atl. Madrid B| Real Madrid C|  -50000|           0|              50000|                8|        -7781250.0|\n",
      "|           #LEADERS|          3|          Hugo Mallo|  Internacional| Aris Saloniki|-1500000|           0|            1500000|                8|        -7781250.0|\n",
      "|       10Management|          1|         Aziz Yakubu| Vit. Guimarães|       Rio Ave|       0|     1000000|            1000000|               10|        -1047500.0|\n",
      "|       10Management|          2|         Aziz Yakubu|         Vizela|Vit. Guimarães| -500000|      200000|             700000|               10|        -1047500.0|\n",
      "|       10Management|          3|         Aziz Yakubu| Vit. Guimarães| Estoril Praia| -625000|           0|             625000|               10|        -1047500.0|\n",
      "|     10Ten Football|          1|          Tom Heaton|        Burnley|   Aston Villa| 5800000|     8800000|            3000000|               14|         -607142.9|\n",
      "|     10Ten Football|          2|          Tom Heaton|  Royal Antwerp|       Man Utd| -100000|           0|             100000|               14|         -607142.9|\n",
      "|     10Ten Football|          3|          Tom Heaton|        Man Utd|       Cardiff| -200000|           0|             200000|               14|         -607142.9|\n",
      "|11-Football Players|          1|Przemyslaw Franko...|        Chicago|          Lens|  300000|     2300000|            2000000|                3|           25000.0|\n",
      "|11-Football Players|          2|Przemyslaw Franko...|    Jagiellonia|       Chicago|       0|     1500000|            1500000|                3|           25000.0|\n",
      "|11-Football Players|          3|Przemyslaw Franko...|  Lechia Gdansk|   Jagiellonia| -225000|       75000|             300000|                3|           25000.0|\n",
      "|           11MANGMT|          1|                Bono|     Sevilla FC|      Al-Hilal| 9000000|    21000000|           12000000|               45|         -582222.2|\n",
      "|           11MANGMT|          2|   Youssef En-Nesyri|     CD Leganés|    Sevilla FC| 8000000|    20000000|           12000000|               45|         -582222.2|\n",
      "|           11MANGMT|          3|      Nordin Amrabat|        Watford|      Al-Nassr| 5500000|     8500000|            3000000|               45|         -582222.2|\n",
      "|             11WINS|          1|          Leroy Sané|  FC Schalke 04|      Man City|22000000|    52000000|           30000000|               68|        -3459926.5|\n",
      "|             11WINS|          2|          Robin Koch| 1.FC K'lautern|   SC Freiburg| 2700000|     3500000|             800000|               68|        -3459926.5|\n",
      "+-------------------+-----------+--------------------+---------------+--------------+--------+------------+-------------------+-----------------+------------------+\n",
      "only showing top 20 rows\n",
      "\n"
     ]
    }
   ],
   "source": [
    "# Calculate the \"deal\" as the difference between transfer_fee and market_value\n",
    "players_merged_clean = players_merged_clean.withColumn(\"deal\", col(\"transfer_fee\") - col(\"market_value_in_eur\"))\n",
    "\n",
    "# Define a window specification to rank deals for each agent\n",
    "window_spec = Window.partitionBy(\"agent_name\").orderBy(col(\"deal\").desc())\n",
    "\n",
    "# Add row numbers to identify the top 3 deals for each agent\n",
    "ranked_df = players_merged_clean.withColumn(\"deal_ranked\", row_number().over(window_spec)).filter(col(\"deal_ranked\") <= 3)\n",
    "\n",
    "# Calculate the average deal and the number of deals for each agent\n",
    "average_df = df_agents.groupBy(\"agent_name\").agg(\n",
    "    round(avg(\"deal\"), 1).alias(\"average_deal_agent\"),  # Average deal\n",
    "    count(\"deal\").alias(\"nr_of_deals_agent\")  # Total number of deals for each agent\n",
    ")\n",
    "\n",
    "# Join the top deals with the average stats\n",
    "result_df = ranked_df.join(average_df, on=\"agent_name\", how=\"inner\")\n",
    "\n",
    "# Select and display the final table\n",
    "top_three_deals_table = result_df.select(\n",
    "    \"agent_name\", \n",
    "    \"deal_ranked\", \n",
    "    \"player_name\", \n",
    "    \"from_club_name\", \n",
    "    \"to_club_name\", \n",
    "    \"deal\", \n",
    "    \"transfer_fee\", \n",
    "    \"market_value_in_eur\", \n",
    "    \"nr_of_deals_agent\", \n",
    "    \"average_deal_agent\"\n",
    ").orderBy(col(\"agent_name\"), col(\"deal_ranked\").asc())\n",
    "\n",
    "top_three_deals_table.show(20)\n"
   ]
  },
  {
   "cell_type": "code",
   "execution_count": 20,
   "id": "fdc9b8ab-e01e-42e5-854a-d3d0a8c4e8d6",
   "metadata": {},
   "outputs": [],
   "source": [
    "# Use the Cloud Storage bucket for temporary BigQuery export data the connector uses.\n",
    "bucket = \"temp_de2\"\n",
    "spark.conf.set('temporaryGcsBucket', bucket)\n",
    "# Saving the data to BigQuery\n",
    "top_three_deals_table.write.format('bigquery') \\\n",
    "  .option('table', 'de2024-436414.transfers_kaggle.best3_agentdeals') \\\n",
    "  .mode(\"overwrite\") \\\n",
    "  .save()"
   ]
  },
  {
   "cell_type": "code",
   "execution_count": 42,
   "id": "0fdd266b-ca41-48a9-9c0f-4fd687ba5d00",
   "metadata": {},
   "outputs": [],
   "source": [
    "# Stop the spark context\n",
    "spark.stop()"
   ]
  }
 ],
 "metadata": {
  "kernelspec": {
   "display_name": "Python 3 (ipykernel)",
   "language": "python",
   "name": "python3"
  },
  "language_info": {
   "codemirror_mode": {
    "name": "ipython",
    "version": 3
   },
   "file_extension": ".py",
   "mimetype": "text/x-python",
   "name": "python",
   "nbconvert_exporter": "python",
   "pygments_lexer": "ipython3",
   "version": "3.11.6"
  }
 },
 "nbformat": 4,
 "nbformat_minor": 5
}
