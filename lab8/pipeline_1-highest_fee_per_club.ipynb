{
 "cells": [
  {
   "cell_type": "code",
   "execution_count": 1,
   "id": "78c8e85a-d907-40ef-918e-f159672d4833",
   "metadata": {},
   "outputs": [
    {
     "name": "stdout",
     "output_type": "stream",
     "text": [
      "root\n",
      " |-- player_id: string (nullable = true)\n",
      " |-- transfer_date: string (nullable = true)\n",
      " |-- transfer_season: string (nullable = true)\n",
      " |-- from_club_id: string (nullable = true)\n",
      " |-- to_club_id: string (nullable = true)\n",
      " |-- from_club_name: string (nullable = true)\n",
      " |-- to_club_name: string (nullable = true)\n",
      " |-- transfer_fee: string (nullable = true)\n",
      " |-- market_value_in_eur: string (nullable = true)\n",
      " |-- player_name: string (nullable = true)\n",
      "\n",
      "+---------+-------------+---------------+------------+----------+--------------+---------------+------------+-------------------+---------------+\n",
      "|player_id|transfer_date|transfer_season|from_club_id|to_club_id|from_club_name|   to_club_name|transfer_fee|market_value_in_eur|    player_name|\n",
      "+---------+-------------+---------------+------------+----------+--------------+---------------+------------+-------------------+---------------+\n",
      "|   195778|   2026-06-30|          25/26|          79|        27| VfB Stuttgart|  Bayern Munich|       0.000|       12000000.000|Alexander Nübel|\n",
      "|   626913|   2026-06-30|          25/26|         398|       380|         Lazio|    Salernitana|       0.000|       15000000.000|    Boulaye Dia|\n",
      "|  1047109|   2026-06-30|          25/26|        2672|       265|APO Levadiakos|  Panathinaikos|       0.000|         100000.000|Georgios Katris|\n",
      "|   360791|   2025-12-31|          25/26|        6418|      1030|   Panetolikos|Argentinos Jrs.|       0.000|        1200000.000|   Lucas Chaves|\n",
      "|   532536|   2025-10-24|          24/25|        2451|      1519|  Inverness CT|  Dundee United|       0.000|         150000.000|    Jack Newman|\n",
      "+---------+-------------+---------------+------------+----------+--------------+---------------+------------+-------------------+---------------+\n",
      "only showing top 5 rows\n",
      "\n",
      "root\n",
      " |-- player_id: long (nullable = true)\n",
      " |-- first_name: string (nullable = true)\n",
      " |-- last_name: string (nullable = true)\n",
      " |-- name: string (nullable = true)\n",
      " |-- last_season: long (nullable = true)\n",
      " |-- current_club_id: long (nullable = true)\n",
      " |-- player_code: string (nullable = true)\n",
      " |-- country_of_birth: string (nullable = true)\n",
      " |-- city_of_birth: string (nullable = true)\n",
      " |-- country_of_citizenship: string (nullable = true)\n",
      " |-- date_of_birth: timestamp (nullable = true)\n",
      " |-- sub_position: string (nullable = true)\n",
      " |-- position: string (nullable = true)\n",
      " |-- foot: string (nullable = true)\n",
      " |-- height_in_cm: long (nullable = true)\n",
      " |-- contract_expiration_date: timestamp (nullable = true)\n",
      " |-- agent_name: string (nullable = true)\n",
      " |-- image_url: string (nullable = true)\n",
      " |-- url: string (nullable = true)\n",
      " |-- current_club_domestic_competition_id: string (nullable = true)\n",
      " |-- current_club_name: string (nullable = true)\n",
      " |-- market_value_in_eur: long (nullable = true)\n",
      " |-- highest_market_value_in_eur: long (nullable = true)\n",
      "\n",
      "+---------+----------+------------+--------------------+-----------+---------------+--------------------+----------------+-------------+----------------------+-------------------+------------+--------+-----+------------+------------------------+----------+--------------------+--------------------+------------------------------------+-----------------+-------------------+---------------------------+\n",
      "|player_id|first_name|   last_name|                name|last_season|current_club_id|         player_code|country_of_birth|city_of_birth|country_of_citizenship|      date_of_birth|sub_position|position| foot|height_in_cm|contract_expiration_date|agent_name|           image_url|                 url|current_club_domestic_competition_id|current_club_name|market_value_in_eur|highest_market_value_in_eur|\n",
      "+---------+----------+------------+--------------------+-----------+---------------+--------------------+----------------+-------------+----------------------+-------------------+------------+--------+-----+------------+------------------------+----------+--------------------+--------------------+------------------------------------+-----------------+-------------------+---------------------------+\n",
      "|    56607|      Anco|      Jansen|         Anco Jansen|       2020|           1283|         anco-jansen|     Netherlands|       Zwolle|           Netherlands|1989-03-09 00:00:00|        NULL| Missing|right|         186|                    NULL|      NULL|https://img.a.tra...|https://www.trans...|                                 NL1|         FC Emmen|             250000|                     700000|\n",
      "|   231165|     Fotis|    Doumanis|      Fotis Doumanis|       2013|            128|      fotis-doumanis|          Greece|       Kavala|                Greece|1993-10-28 00:00:00|        NULL| Missing|right|         173|     2023-06-30 00:00:00|      NULL|https://img.a.tra...|https://www.trans...|                                 GR1|        AO Xanthi|             150000|                     150000|\n",
      "|   727111|Anastasios|Papadopoulos|Anastasios Papado...|       2019|            128|anastasios-papado...|            NULL|         NULL|                Greece|2002-03-15 00:00:00|        NULL| Missing|right|         180|     2023-06-30 00:00:00|      NULL|https://img.a.tra...|https://www.trans...|                                 GR1|        AO Xanthi|               NULL|                       NULL|\n",
      "|   564561|  Mathurin|       Sakho|      Mathurin Sakho|       2018|           1416|      mathurin-sakho|            NULL|         NULL|                France|1995-03-10 00:00:00|        NULL| Missing| NULL|         186|                    NULL| ProSkills|https://img.a.tra...|https://www.trans...|                                 FR1|        Amiens SC|               NULL|                       NULL|\n",
      "+---------+----------+------------+--------------------+-----------+---------------+--------------------+----------------+-------------+----------------------+-------------------+------------+--------+-----+------------+------------------------+----------+--------------------+--------------------+------------------------------------+-----------------+-------------------+---------------------------+\n",
      "only showing top 4 rows\n",
      "\n"
     ]
    }
   ],
   "source": [
    "from pyspark.sql import SparkSession\n",
    "from pyspark import SparkConf\n",
    "\n",
    "sparkConf = SparkConf()\n",
    "sparkConf.setMaster(\"spark://spark-master:7077\")\n",
    "sparkConf.setAppName(\"Exercise_1_lab8_DE2\")\n",
    "sparkConf.set(\"spark.driver.memory\", \"2g\")\n",
    "sparkConf.set(\"spark.executor.cores\", \"1\")\n",
    "sparkConf.set(\"spark.driver.cores\", \"1\")\n",
    "# create the spark session, which is the entry point to Spark SQL engine.\n",
    "spark = SparkSession.builder.config(conf=sparkConf).getOrCreate()\n",
    "# Load data from BigQuery.\n",
    "\n",
    "conf = spark.sparkContext._jsc.hadoopConfiguration()\n",
    "conf.set(\"fs.gs.impl\", \"com.google.cloud.hadoop.fs.gcs.GoogleHadoopFileSystem\")\n",
    "conf.set(\"fs.AbstractFileSystem.gs.impl\", \"com.google.cloud.hadoop.fs.gcs.GoogleHadoopFS\")\n",
    "\n",
    "gsc_file_path = 'gs://data_de2/transfers.csv'  #  use your gcp bucket name. Also upload sales.csv first\n",
    "\n",
    "df_transfers = spark.read.format(\"csv\").option(\"header\", \"true\").option(\"delimiter\", \",\") \\\n",
    "       .load(gsc_file_path)\n",
    "df_transfers.printSchema()\n",
    "df_transfers.show(5)\n",
    "\n",
    "df_players = spark.read \\\n",
    "  .format(\"bigquery\") \\\n",
    "  .load(\"de2024-436414.transfers_kaggle.players\")    # project_id.datatset.tablename. Use your project id\n",
    "df_players.printSchema()\n",
    "df_players.show(4)\n",
    "\n"
   ]
  },
  {
   "cell_type": "code",
   "execution_count": 17,
   "id": "3ad4d222-1759-47d4-ad6a-5af94ac18a67",
   "metadata": {},
   "outputs": [
    {
     "data": {
      "text/plain": [
       "['player_id',\n",
       " 'transfer_date',\n",
       " 'transfer_season',\n",
       " 'from_club_id',\n",
       " 'to_club_id',\n",
       " 'from_club_name',\n",
       " 'to_club_name',\n",
       " 'transfer_fee',\n",
       " 'market_value_in_eur',\n",
       " 'player_name']"
      ]
     },
     "execution_count": 17,
     "metadata": {},
     "output_type": "execute_result"
    }
   ],
   "source": [
    "df_transfers.columns"
   ]
  },
  {
   "cell_type": "markdown",
   "id": "28c766fb-a44e-475f-81ca-8e9edf62395c",
   "metadata": {},
   "source": [
    "**Which players hold the highest and second-highest transfer fees for each club, and what are their details?**"
   ]
  },
  {
   "cell_type": "code",
   "execution_count": 16,
   "id": "e11e088d-1db7-47da-b88a-f4abafb8a3b6",
   "metadata": {},
   "outputs": [
    {
     "name": "stdout",
     "output_type": "stream",
     "text": [
      "+---------+--------------------+----------------+----------------------+-------------+------------+--------+-----+------------+----------------+--------------------+\n",
      "|player_id|         player_code|country_of_birth|country_of_citizenship|date_of_birth|sub_position|position| foot|height_in_cm|      agent_name|           image_url|\n",
      "+---------+--------------------+----------------+----------------------+-------------+------------+--------+-----+------------+----------------+--------------------+\n",
      "|    56607|         anco-jansen|     Netherlands|           Netherlands|   1989-03-09|        NULL| Missing|right|         186|            NULL|https://img.a.tra...|\n",
      "|   231165|      fotis-doumanis|          Greece|                Greece|   1993-10-28|        NULL| Missing|right|         173|            NULL|https://img.a.tra...|\n",
      "|   727111|anastasios-papado...|            NULL|                Greece|   2002-03-15|        NULL| Missing|right|         180|            NULL|https://img.a.tra...|\n",
      "|   564561|      mathurin-sakho|            NULL|                France|   1995-03-10|        NULL| Missing| NULL|         186|       ProSkills|https://img.a.tra...|\n",
      "|   158704|   jon-ander-garrido|           Spain|                 Spain|   1989-10-09|        NULL| Missing|right|         185|    JV SPORTS SL|https://img.a.tra...|\n",
      "|   457129|      ben-hinchliffe|         England|               England|   1997-09-25|        NULL| Missing| NULL|        NULL|            NULL|https://img.a.tra...|\n",
      "|   584378|        lucas-geurde|            NULL|               Belgium|   1999-08-18|        NULL| Missing| NULL|        NULL|            NULL|https://img.a.tra...|\n",
      "|  1160121|      wassim-zaatout|            NULL|               Morocco|   2004-02-03|        NULL| Missing|right|        NULL|            NULL|https://img.a.tra...|\n",
      "|   451848| geoffrey-acheampong|           Ghana|                 Ghana|   1997-01-28|        NULL| Missing| left|         180|Fisher Sport Ltd|https://img.a.tra...|\n",
      "|   468661|         lucas-triki|          France|               Morocco|   1998-05-06|        NULL| Missing| NULL|         177|            NULL|https://img.a.tra...|\n",
      "|   718190|      jorge-cofrades|            NULL|                 Spain|   2001-01-19|        NULL| Missing| NULL|         185|            NULL|https://img.a.tra...|\n",
      "|    64385|  jose-manuel-catala|           Spain|                 Spain|   1985-01-01|        NULL| Missing| left|         182|            NULL|https://img.a.tra...|\n",
      "|  1063540|        mamadu-silla|            NULL|              Portugal|   2006-11-30|        NULL| Missing|right|        NULL|            NULL|https://img.a.tra...|\n",
      "|   321086|        emil-nielsen|            NULL|               Denmark|   1996-01-29|        NULL| Missing| NULL|        NULL|            NULL|https://img.a.tra...|\n",
      "|    26199|               verza|           Spain|                 Spain|   1986-09-29|        NULL| Missing|right|         181|InterStarDeporte|https://img.a.tra...|\n",
      "+---------+--------------------+----------------+----------------------+-------------+------------+--------+-----+------------+----------------+--------------------+\n",
      "only showing top 15 rows\n",
      "\n"
     ]
    }
   ],
   "source": [
    "# first, only select the columns from df_players that are not in df_transfers and insightful\n",
    "df_players_new = df_players.select(\"player_id\", \"player_code\", \"country_of_birth\", \"country_of_citizenship\", \n",
    "                                   \"date_of_birth\", \"sub_position\", \"position\", \"foot\", \"height_in_cm\", \n",
    "                                   \"agent_name\", \"image_url\") \n",
    "\n",
    "# Turn date_of_birth into an object without timestamp\n",
    "df_players_new = df_players_new.withColumn(\"date_of_birth\", to_date(col(\"date_of_birth\")))\n",
    "\n",
    "df_players_new.show(15)\n",
    "\n"
   ]
  },
  {
   "cell_type": "code",
   "execution_count": 32,
   "id": "1bcce576-7039-4a8f-b96e-909662c711aa",
   "metadata": {},
   "outputs": [
    {
     "name": "stdout",
     "output_type": "stream",
     "text": [
      "root\n",
      " |-- player_id: string (nullable = true)\n",
      " |-- transfer_date: string (nullable = true)\n",
      " |-- transfer_season: string (nullable = true)\n",
      " |-- from_club_id: string (nullable = true)\n",
      " |-- to_club_id: string (nullable = true)\n",
      " |-- from_club_name: string (nullable = true)\n",
      " |-- to_club_name: string (nullable = true)\n",
      " |-- transfer_fee: string (nullable = true)\n",
      " |-- market_value_in_eur: string (nullable = true)\n",
      " |-- player_name: string (nullable = true)\n",
      " |-- player_id: long (nullable = true)\n",
      " |-- player_code: string (nullable = true)\n",
      " |-- country_of_birth: string (nullable = true)\n",
      " |-- country_of_citizenship: string (nullable = true)\n",
      " |-- date_of_birth: date (nullable = true)\n",
      " |-- sub_position: string (nullable = true)\n",
      " |-- position: string (nullable = true)\n",
      " |-- foot: string (nullable = true)\n",
      " |-- height_in_cm: long (nullable = true)\n",
      " |-- agent_name: string (nullable = true)\n",
      " |-- image_url: string (nullable = true)\n",
      "\n"
     ]
    }
   ],
   "source": [
    "from pyspark.sql.functions import *\n",
    "from pyspark.sql import Window\n",
    "\n",
    "# Join the players and transfers datasets using a left join\n",
    "join_expression = df_players_new[\"player_id\"] == df_transfers[\"player_id\"]\n",
    "players_merged = df_transfers.join(df_players_new, join_expression, \"left\").drop(\"rid\")\n",
    "\n",
    "# We found some NAN values in the transfer fee section, we will remove these rows because they are not important\n",
    "players_merged_clean = players_merged.filter(col(\"transfer_fee\").isNotNull())\n",
    "\n",
    "\n",
    "players_merged_clean.printSchema()\n"
   ]
  },
  {
   "cell_type": "markdown",
   "id": "d0e8094e-0299-4006-8d37-42f6fad9e3d9",
   "metadata": {},
   "source": [
    "We can see in the shema above that a lot of these variables that should be integers are strings. Let's fix that."
   ]
  },
  {
   "cell_type": "code",
   "execution_count": 33,
   "id": "134b5ff5-e1d3-4c0f-8999-d4b5f1a73e12",
   "metadata": {},
   "outputs": [
    {
     "name": "stdout",
     "output_type": "stream",
     "text": [
      "root\n",
      " |-- player_id: string (nullable = true)\n",
      " |-- transfer_date: string (nullable = true)\n",
      " |-- transfer_season: string (nullable = true)\n",
      " |-- from_club_id: string (nullable = true)\n",
      " |-- to_club_id: string (nullable = true)\n",
      " |-- from_club_name: string (nullable = true)\n",
      " |-- to_club_name: string (nullable = true)\n",
      " |-- transfer_fee: integer (nullable = true)\n",
      " |-- market_value_in_eur: integer (nullable = true)\n",
      " |-- player_name: string (nullable = true)\n",
      " |-- player_id: long (nullable = true)\n",
      " |-- player_code: string (nullable = true)\n",
      " |-- country_of_birth: string (nullable = true)\n",
      " |-- country_of_citizenship: string (nullable = true)\n",
      " |-- date_of_birth: date (nullable = true)\n",
      " |-- sub_position: string (nullable = true)\n",
      " |-- position: string (nullable = true)\n",
      " |-- foot: string (nullable = true)\n",
      " |-- height_in_cm: integer (nullable = true)\n",
      " |-- agent_name: string (nullable = true)\n",
      " |-- image_url: string (nullable = true)\n",
      "\n"
     ]
    }
   ],
   "source": [
    "# Convert transfer_fee, market_value_in_eur, and height_in_cm to integer type\n",
    "players_merged_clean = players_merged_clean.withColumn(\"transfer_fee\", col(\"transfer_fee\").cast(\"int\")) \\\n",
    "                                           .withColumn(\"market_value_in_eur\", col(\"market_value_in_eur\").cast(\"int\")) \\\n",
    "                                           .withColumn(\"height_in_cm\", col(\"height_in_cm\").cast(\"int\"))\n",
    "\n",
    "players_merged_clean.printSchema()\n"
   ]
  },
  {
   "cell_type": "code",
   "execution_count": 34,
   "id": "0f505636-4cd9-41f9-83a0-6fe7b9928746",
   "metadata": {},
   "outputs": [
    {
     "name": "stdout",
     "output_type": "stream",
     "text": [
      "+--------------------+--------------+----------------+-------------+----------+-----+------------+------------------+------------+------------------+\n",
      "|         player_name|  to_club_name|country_of_birth|date_of_birth|  position| foot|height_in_cm|            Record|transfer_fee|      avg_fee_club|\n",
      "+--------------------+--------------+----------------+-------------+----------+-----+------------+------------------+------------+------------------+\n",
      "|     Philipp Hofmann|1.FC K'lautern|         Germany|   1993-03-30|    Attack| left|         195|    Most Expensive|     1000000|          110000.0|\n",
      "|        Simon Zoller|1.FC K'lautern|         Germany|   1991-06-26|    Attack|right|         179|2nd Most expensive|      630000|          110000.0|\n",
      "|        Jhon Córdoba|     1.FC Köln|        Colombia|   1993-05-11|    Attack|right|         188|    Most Expensive|    17000000|1216901.4084507043|\n",
      "|  Sebastiaan Bornauw|     1.FC Köln|         Belgium|   1999-03-22|  Defender|right|         191|2nd Most expensive|     8250000|1216901.4084507043|\n",
      "|      Nikolas Nartey|  1.FC Köln II|         Denmark|   2000-02-22|  Midfield| left|         185|    Most Expensive|      400000|57142.857142857145|\n",
      "|       Makoto Hasebe|1.FC Nuremberg|           Japan|   1984-01-18|  Defender|right|         180|    Most Expensive|     2500000| 222702.7027027027|\n",
      "|      Nikola Dovedan|1.FC Nuremberg|         Austria|   1994-07-06|    Attack|right|         172|2nd Most expensive|     2500000| 222702.7027027027|\n",
      "|        Aarón Martín|1.FSV Mainz 05|           Spain|   1997-04-22|  Defender| left|         178|    Most Expensive|     8000000|1361521.7391304348|\n",
      "|Jean-Philippe Mateta|1.FSV Mainz 05|          France|   1997-06-28|    Attack|right|         192|2nd Most expensive|     8000000|1361521.7391304348|\n",
      "|  Christian Gytkjaer|   1860 Munich|         Denmark|   1990-05-06|    Attack|right|         185|    Most Expensive|     2250000|          250000.0|\n",
      "|    Benedikt Pichler| A. Klagenfurt|         Austria|   1997-07-20|    Attack|right|         188|    Most Expensive|       13000|1444.4444444444443|\n",
      "|         Sam Proctor| A. Villa Yth.|         England|   2006-12-21|Goalkeeper| NULL|        NULL|    Most Expensive|      120000|          120000.0|\n",
      "|     Mikkel Kallesøe|    AC Horsens|         Denmark|   1997-04-20|  Defender|right|         193|    Most Expensive|      335000|14423.076923076924|\n",
      "|         James Gomez|    AC Horsens|      The Gambia|   2001-11-14|  Defender|right|         189|2nd Most expensive|       40000|14423.076923076924|\n",
      "|         Rafael Leão|      AC Milan|        Portugal|   1999-06-10|    Attack|right|         188|    Most Expensive|    49500000| 5061734.104046242|\n",
      "|    Leonardo Bonucci|      AC Milan|           Italy|   1987-05-01|  Defender|right|         189|2nd Most expensive|    42000000| 5061734.104046242|\n",
      "|Gianluigi Donnarumma|AC Milan Youth|           Italy|   1999-02-25|Goalkeeper|right|         196|    Most Expensive|      250000|          150000.0|\n",
      "|  Antonio Donnarumma|AC Milan Youth|           Italy|   1990-07-07|Goalkeeper|right|         192|2nd Most expensive|       50000|          150000.0|\n",
      "|          Elia Giani|       AC Pisa|           Italy|   2000-12-20|    Attack| NULL|         185|    Most Expensive|      100000| 7142.857142857143|\n",
      "|           Luís Neto|      AC Siena|        Portugal|   1988-05-26|  Defender|right|         185|    Most Expensive|     3650000| 638888.8888888889|\n",
      "+--------------------+--------------+----------------+-------------+----------+-----+------------+------------------+------------+------------------+\n",
      "only showing top 20 rows\n",
      "\n"
     ]
    }
   ],
   "source": [
    "# Calculate the average fee per club for comparison\n",
    "avg_fee_club = players_merged_clean.groupBy(\"to_club_name\").agg(avg(\"transfer_fee\").alias(\"avg_fee_club\"))\n",
    "\n",
    "# We exclude all players that went on a free transfer (transer_fee == 0), as this is not an expenditure for the club.\n",
    "players_merged_clean = players_merged_clean.filter(col(\"transfer_fee\") > 0)\n",
    "\n",
    "# Exclude players who went on a free transfer (transfer_fee == 0)\n",
    "players_merged_clean = players_merged_clean.filter(col(\"transfer_fee\") > 0)\n",
    "\n",
    "# Add the average fee to the players_merged DataFrame\n",
    "players_with_avg_fee = players_merged_clean.join(avg_fee_club, on=\"to_club_name\", how=\"left\")\n",
    "\n",
    "\n",
    "# Define a window to rank players by transfer_fee within each club, ordering by transfer_fee in descending order\n",
    "highest_fee_club = Window.partitionBy(\"to_club_name\").orderBy(col(\"transfer_fee\").desc(), col(\"player_name\"))\n",
    "\n",
    "# Add a rank column to determine the order of players by transfer_fee\n",
    "players_merged_ranked = players_with_avg_fee.withColumn(\"rank_fee\", row_number().over(highest_fee_club))\n",
    "\n",
    "\n",
    "top_two_expenditures_table = players_merged_ranked.where((col(\"rank_fee\") == 1) | (col(\"rank_fee\") == 2) ).select(\"*\")\n",
    "# top_two_expenditures_table.show(20)\n",
    "\n",
    "top_two_expenditures_table2 = top_two_expenditures_table.withColumn(\"Record\", when(col(\"rank_fee\") == 1, \"Most Expensive\")\n",
    "                                                          .otherwise(\"2nd Most expensive\")).select(\"player_name\", \"to_club_name\", \"country_of_birth\",\"date_of_birth\" , \"position\", \"foot\", \"height_in_cm\",  \"Record\", \"transfer_fee\", \"avg_fee_club\")\n",
    "\n",
    "top_two_expenditures_table2 = top_two_expenditures_table2.orderBy(col(\"to_club_name\"), col(\"transfer_fee\").desc())\n",
    "top_two_expenditures_table2.show(20)\n"
   ]
  },
  {
   "cell_type": "code",
   "execution_count": 35,
   "id": "4bf015d8-821a-45a7-99e8-65f83ce17525",
   "metadata": {},
   "outputs": [],
   "source": [
    "# Use the Cloud Storage bucket for temporary BigQuery export data the connector uses.\n",
    "bucket = \"temp_de2\"\n",
    "spark.conf.set('temporaryGcsBucket', bucket)\n",
    "# Saving the data to BigQuery\n",
    "top_two_expenditures_table2.write.format('bigquery') \\\n",
    "  .option('table', 'de2024-436414.transfers_kaggle.record_expenditure_clubs') \\\n",
    "  .mode(\"overwrite\") \\\n",
    "  .save()"
   ]
  },
  {
   "cell_type": "code",
   "execution_count": 42,
   "id": "0fdd266b-ca41-48a9-9c0f-4fd687ba5d00",
   "metadata": {},
   "outputs": [],
   "source": [
    "# Stop the spark context\n",
    "spark.stop()"
   ]
  }
 ],
 "metadata": {
  "kernelspec": {
   "display_name": "Python 3 (ipykernel)",
   "language": "python",
   "name": "python3"
  },
  "language_info": {
   "codemirror_mode": {
    "name": "ipython",
    "version": 3
   },
   "file_extension": ".py",
   "mimetype": "text/x-python",
   "name": "python",
   "nbconvert_exporter": "python",
   "pygments_lexer": "ipython3",
   "version": "3.11.6"
  }
 },
 "nbformat": 4,
 "nbformat_minor": 5
}
